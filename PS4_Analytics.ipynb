{
 "cells": [
  {
   "cell_type": "code",
   "execution_count": 1,
   "metadata": {
    "collapsed": true
   },
   "outputs": [],
   "source": [
    "# For data processing, management, and file reading\n",
    "import pandas as pd\n",
    "# For statistical analyses\n",
    "import numpy"
   ]
  },
  {
   "cell_type": "code",
   "execution_count": 2,
   "metadata": {
    "collapsed": true
   },
   "outputs": [],
   "source": [
    "# Visualizing the data through plots\n",
    "import matplotlib.pyplot as plt\n",
    "# Making them pretty\n",
    "import seaborn as sns\n",
    "%matplotlib inline"
   ]
  },
  {
   "cell_type": "markdown",
   "metadata": {},
   "source": [
    "Gaming has had an upsurge of popularity in the last couple years, where not only do people make livelihoods making them, but also playing them. This can range from casual Let's Plays to competitive e-sports games, but what types of games are the most popular to everyone? \n",
    "\n",
    "There was a deep seeded desire in me to learn what that answer was for the PS4, as I just recently bought it and was very indecisive in buying my next game. What better way to find out than to use data to come to my conclusions? I extracted the data from VGChartz.com to learn more."
   ]
  },
  {
   "cell_type": "code",
   "execution_count": 3,
   "metadata": {
    "collapsed": false
   },
   "outputs": [],
   "source": [
    "# Reading file as a dataframe\n",
    "df = pd.read_csv(\"PS4_VGChartz.csv\", encoding = \"ISO-8859-1\")"
   ]
  },
  {
   "cell_type": "code",
   "execution_count": 4,
   "metadata": {
    "collapsed": false
   },
   "outputs": [
    {
     "data": {
      "text/plain": [
       "Index(['Game', 'Platform', 'Year', 'Genre', 'Publisher', 'North America',\n",
       "       'Europe', 'Japan', 'Rest of World'],\n",
       "      dtype='object')"
      ]
     },
     "execution_count": 4,
     "metadata": {},
     "output_type": "execute_result"
    }
   ],
   "source": [
    "# Keys of the dataframe\n",
    "df.keys()"
   ]
  },
  {
   "cell_type": "code",
   "execution_count": 5,
   "metadata": {
    "collapsed": true
   },
   "outputs": [],
   "source": [
    "# Renamed a couple keys so I don't have to worry about spaces\n",
    "df = df.rename(columns={'North America': 'NA', 'Rest of World': 'Rest_of_World'})"
   ]
  },
  {
   "cell_type": "code",
   "execution_count": 6,
   "metadata": {
    "collapsed": false
   },
   "outputs": [
    {
     "data": {
      "text/html": [
       "<div>\n",
       "<table border=\"1\" class=\"dataframe\">\n",
       "  <thead>\n",
       "    <tr style=\"text-align: right;\">\n",
       "      <th></th>\n",
       "      <th>Game</th>\n",
       "      <th>Platform</th>\n",
       "      <th>Year</th>\n",
       "      <th>Genre</th>\n",
       "      <th>Publisher</th>\n",
       "      <th>NA</th>\n",
       "      <th>Europe</th>\n",
       "      <th>Japan</th>\n",
       "      <th>Rest_of_World</th>\n",
       "    </tr>\n",
       "  </thead>\n",
       "  <tbody>\n",
       "    <tr>\n",
       "      <th>0</th>\n",
       "      <td>Grand Theft Auto V</td>\n",
       "      <td>PS4</td>\n",
       "      <td>2014.0</td>\n",
       "      <td>Action</td>\n",
       "      <td>Take-Two Interactive</td>\n",
       "      <td>4.59</td>\n",
       "      <td>7.71</td>\n",
       "      <td>0.48</td>\n",
       "      <td>2.35</td>\n",
       "    </tr>\n",
       "    <tr>\n",
       "      <th>1</th>\n",
       "      <td>Call of Duty: Black Ops 3</td>\n",
       "      <td>PS4</td>\n",
       "      <td>2015.0</td>\n",
       "      <td>Shooter</td>\n",
       "      <td>Activision</td>\n",
       "      <td>5.97</td>\n",
       "      <td>6.07</td>\n",
       "      <td>0.37</td>\n",
       "      <td>2.40</td>\n",
       "    </tr>\n",
       "    <tr>\n",
       "      <th>2</th>\n",
       "      <td>FIFA 17</td>\n",
       "      <td>PS4</td>\n",
       "      <td>2016.0</td>\n",
       "      <td>Sports</td>\n",
       "      <td>Electronic Arts</td>\n",
       "      <td>1.15</td>\n",
       "      <td>7.88</td>\n",
       "      <td>0.11</td>\n",
       "      <td>1.58</td>\n",
       "    </tr>\n",
       "    <tr>\n",
       "      <th>3</th>\n",
       "      <td>Uncharted 4: A Thief's End</td>\n",
       "      <td>PS4</td>\n",
       "      <td>2016.0</td>\n",
       "      <td>Shooter</td>\n",
       "      <td>Sony Computer Entertainment</td>\n",
       "      <td>3.88</td>\n",
       "      <td>3.39</td>\n",
       "      <td>0.20</td>\n",
       "      <td>1.47</td>\n",
       "    </tr>\n",
       "    <tr>\n",
       "      <th>4</th>\n",
       "      <td>FIFA 16</td>\n",
       "      <td>PS4</td>\n",
       "      <td>2015.0</td>\n",
       "      <td>Sports</td>\n",
       "      <td>Electronic Arts</td>\n",
       "      <td>1.14</td>\n",
       "      <td>6.14</td>\n",
       "      <td>0.07</td>\n",
       "      <td>1.28</td>\n",
       "    </tr>\n",
       "  </tbody>\n",
       "</table>\n",
       "</div>"
      ],
      "text/plain": [
       "                         Game Platform    Year    Genre  \\\n",
       "0          Grand Theft Auto V      PS4  2014.0   Action   \n",
       "1   Call of Duty: Black Ops 3      PS4  2015.0  Shooter   \n",
       "2                     FIFA 17      PS4  2016.0   Sports   \n",
       "3  Uncharted 4: A Thief's End      PS4  2016.0  Shooter   \n",
       "4                     FIFA 16      PS4  2015.0   Sports   \n",
       "\n",
       "                     Publisher    NA  Europe  Japan  Rest_of_World  \n",
       "0         Take-Two Interactive  4.59    7.71   0.48           2.35  \n",
       "1                   Activision  5.97    6.07   0.37           2.40  \n",
       "2              Electronic Arts  1.15    7.88   0.11           1.58  \n",
       "3  Sony Computer Entertainment  3.88    3.39   0.20           1.47  \n",
       "4              Electronic Arts  1.14    6.14   0.07           1.28  "
      ]
     },
     "execution_count": 6,
     "metadata": {},
     "output_type": "execute_result"
    }
   ],
   "source": [
    "# Snapshot of the dataframe\n",
    "df.head()"
   ]
  },
  {
   "cell_type": "code",
   "execution_count": 7,
   "metadata": {
    "collapsed": false
   },
   "outputs": [
    {
     "name": "stdout",
     "output_type": "stream",
     "text": [
      "<class 'pandas.core.frame.DataFrame'>\n",
      "RangeIndex: 876 entries, 0 to 875\n",
      "Data columns (total 9 columns):\n",
      "Game             875 non-null object\n",
      "Platform         876 non-null object\n",
      "Year             685 non-null float64\n",
      "Genre            875 non-null object\n",
      "Publisher        684 non-null object\n",
      "NA               876 non-null float64\n",
      "Europe           876 non-null float64\n",
      "Japan            876 non-null float64\n",
      "Rest_of_World    876 non-null float64\n",
      "dtypes: float64(5), object(4)\n",
      "memory usage: 61.7+ KB\n"
     ]
    }
   ],
   "source": [
    "# A breakdown of what type of data I have on hand\n",
    "df.info()"
   ]
  },
  {
   "cell_type": "markdown",
   "metadata": {},
   "source": [
    "Gameplay is very important aspect to my enjoyability. I enjoy a lot of JRPG's, but that doesn't mean I don't like the occasional Call of Duty now and then. Within my dataset, I found that there was regional and genre data that I could manipulate, so I decided to focus on the total number of sales versus genre by each region provided.\n",
    "\n",
    "An important note to this data is that Japan is singled out by itself in all of Asia, and is alongside North America and Europe. I'm not exactly sure why this is, whether its lack of data coverage for all of Asia or because Japan is its own special case. "
   ]
  },
  {
   "cell_type": "code",
   "execution_count": 8,
   "metadata": {
    "collapsed": false
   },
   "outputs": [],
   "source": [
    "# Grouped the values by region, and created another dataframe for it. Also added a new column for all the sales made globally\n",
    "\n",
    "# Regional Grouping\n",
    "NA_Genre_Total = df.groupby('Genre')['NA'].sum()\n",
    "Europe_Genre_Total = df.groupby('Genre')['Europe'].sum()\n",
    "Japan_Genre_Total = df.groupby('Genre')['Japan'].sum()\n",
    "ROW_Genre_Total = df.groupby('Genre')['Rest_of_World'].sum()\n",
    "\n",
    "Sales_By_Region = pd.concat([NA_Genre_Total, Europe_Genre_Total, Japan_Genre_Total,ROW_Genre_Total], axis=1)\n",
    "\n",
    "# Adding the total numbers\n",
    "Global_Genre_Total = Sales_By_Region.sum(axis=1)\n",
    "Global_Genre_Total.name = 'Global_Total'\n",
    "\n",
    "# Final data frame\n",
    "Total_Genre_Sales = pd.concat([Sales_By_Region, Global_Genre_Total], axis=1)"
   ]
  },
  {
   "cell_type": "markdown",
   "metadata": {},
   "source": [
    "Here we have the total amount of sales per genre for each region, as well as a total worldwide."
   ]
  },
  {
   "cell_type": "code",
   "execution_count": 9,
   "metadata": {
    "collapsed": false
   },
   "outputs": [
    {
     "data": {
      "text/html": [
       "<div>\n",
       "<table border=\"1\" class=\"dataframe\">\n",
       "  <thead>\n",
       "    <tr style=\"text-align: right;\">\n",
       "      <th></th>\n",
       "      <th>NA</th>\n",
       "      <th>Europe</th>\n",
       "      <th>Japan</th>\n",
       "      <th>Rest_of_World</th>\n",
       "      <th>Global_Total</th>\n",
       "    </tr>\n",
       "    <tr>\n",
       "      <th>Genre</th>\n",
       "      <th></th>\n",
       "      <th></th>\n",
       "      <th></th>\n",
       "      <th></th>\n",
       "      <th></th>\n",
       "    </tr>\n",
       "  </thead>\n",
       "  <tbody>\n",
       "    <tr>\n",
       "      <th>Action</th>\n",
       "      <td>39.79</td>\n",
       "      <td>52.12</td>\n",
       "      <td>8.47</td>\n",
       "      <td>17.89</td>\n",
       "      <td>118.27</td>\n",
       "    </tr>\n",
       "    <tr>\n",
       "      <th>Adventure</th>\n",
       "      <td>2.71</td>\n",
       "      <td>3.53</td>\n",
       "      <td>0.65</td>\n",
       "      <td>1.21</td>\n",
       "      <td>8.10</td>\n",
       "    </tr>\n",
       "    <tr>\n",
       "      <th>Fighting</th>\n",
       "      <td>4.09</td>\n",
       "      <td>3.27</td>\n",
       "      <td>1.00</td>\n",
       "      <td>1.49</td>\n",
       "      <td>9.85</td>\n",
       "    </tr>\n",
       "    <tr>\n",
       "      <th>Misc</th>\n",
       "      <td>3.96</td>\n",
       "      <td>3.97</td>\n",
       "      <td>0.73</td>\n",
       "      <td>1.59</td>\n",
       "      <td>10.25</td>\n",
       "    </tr>\n",
       "    <tr>\n",
       "      <th>Platform</th>\n",
       "      <td>2.97</td>\n",
       "      <td>4.03</td>\n",
       "      <td>0.52</td>\n",
       "      <td>1.34</td>\n",
       "      <td>8.86</td>\n",
       "    </tr>\n",
       "    <tr>\n",
       "      <th>Puzzle</th>\n",
       "      <td>0.03</td>\n",
       "      <td>0.03</td>\n",
       "      <td>0.00</td>\n",
       "      <td>0.02</td>\n",
       "      <td>0.08</td>\n",
       "    </tr>\n",
       "    <tr>\n",
       "      <th>Racing</th>\n",
       "      <td>3.04</td>\n",
       "      <td>8.01</td>\n",
       "      <td>0.34</td>\n",
       "      <td>2.02</td>\n",
       "      <td>13.41</td>\n",
       "    </tr>\n",
       "    <tr>\n",
       "      <th>Role-Playing</th>\n",
       "      <td>13.19</td>\n",
       "      <td>15.40</td>\n",
       "      <td>5.73</td>\n",
       "      <td>5.61</td>\n",
       "      <td>39.93</td>\n",
       "    </tr>\n",
       "    <tr>\n",
       "      <th>Shooter</th>\n",
       "      <td>39.16</td>\n",
       "      <td>45.44</td>\n",
       "      <td>3.34</td>\n",
       "      <td>16.50</td>\n",
       "      <td>104.44</td>\n",
       "    </tr>\n",
       "    <tr>\n",
       "      <th>Simulation</th>\n",
       "      <td>0.27</td>\n",
       "      <td>0.92</td>\n",
       "      <td>0.20</td>\n",
       "      <td>0.21</td>\n",
       "      <td>1.60</td>\n",
       "    </tr>\n",
       "    <tr>\n",
       "      <th>Sports</th>\n",
       "      <td>23.20</td>\n",
       "      <td>30.00</td>\n",
       "      <td>1.18</td>\n",
       "      <td>10.35</td>\n",
       "      <td>64.73</td>\n",
       "    </tr>\n",
       "    <tr>\n",
       "      <th>Strategy</th>\n",
       "      <td>0.25</td>\n",
       "      <td>0.22</td>\n",
       "      <td>0.21</td>\n",
       "      <td>0.10</td>\n",
       "      <td>0.78</td>\n",
       "    </tr>\n",
       "  </tbody>\n",
       "</table>\n",
       "</div>"
      ],
      "text/plain": [
       "                 NA  Europe  Japan  Rest_of_World  Global_Total\n",
       "Genre                                                          \n",
       "Action        39.79   52.12   8.47          17.89        118.27\n",
       "Adventure      2.71    3.53   0.65           1.21          8.10\n",
       "Fighting       4.09    3.27   1.00           1.49          9.85\n",
       "Misc           3.96    3.97   0.73           1.59         10.25\n",
       "Platform       2.97    4.03   0.52           1.34          8.86\n",
       "Puzzle         0.03    0.03   0.00           0.02          0.08\n",
       "Racing         3.04    8.01   0.34           2.02         13.41\n",
       "Role-Playing  13.19   15.40   5.73           5.61         39.93\n",
       "Shooter       39.16   45.44   3.34          16.50        104.44\n",
       "Simulation     0.27    0.92   0.20           0.21          1.60\n",
       "Sports        23.20   30.00   1.18          10.35         64.73\n",
       "Strategy       0.25    0.22   0.21           0.10          0.78"
      ]
     },
     "execution_count": 9,
     "metadata": {},
     "output_type": "execute_result"
    }
   ],
   "source": [
    "Total_Genre_Sales"
   ]
  },
  {
   "cell_type": "markdown",
   "metadata": {},
   "source": [
    "I have plotted the number of sales made per genre with a bar chart below."
   ]
  },
  {
   "cell_type": "code",
   "execution_count": 215,
   "metadata": {
    "collapsed": false
   },
   "outputs": [
    {
     "data": {
      "image/png": "[encoded data removed]",
      "text/plain": [
       "<matplotlib.figure.Figure at 0x127571eb8>"
      ]
     },
     "metadata": {},
     "output_type": "display_data"
    }
   ],
   "source": [
    "# I plotted the total number of sales made through seaborn, came out pretty nice and colorful\n",
    "plt.figure(figsize = (15,7.5))\n",
    "Genre_Plot = sns.barplot(x = Total_Genre_Sales.Global_Total.values, y = Total_Genre_Sales.Global_Total.index, orient = 'h')\n",
    "Genre_Plot.set(xlabel='Global Number of Sales (per million)', ylabel='Genre')\n",
    "plt.show()"
   ]
  },
  {
   "cell_type": "markdown",
   "metadata": {},
   "source": [
    "Based off this plot, the 'Action' genre does exceedingly well. It makes sense, its defined as \"genre that emphasizes physical challenges, including hand–eye coordination and reaction-time,\" (the wikipedia article on Action games) which can encompass a lot of these genres shown below. \n",
    "\n",
    "'Shooter' and 'Sports' follows in 2nd and 3rd place respectively, two highly competitive gaming genres that emphasize multiplayer. However, it was interesting to see 'Role-Playing' come in at a distant 4th in terms of sales. Most RPG's (Role-Playing Games), if not all, are single-player games that don't require additional controllers, good wi-fi, or other people. However, 39.93 million PS4 Role-Playing games were sold in the PS4's lifespan, which means around 40 million people didn't mind playing with themselves .  \n",
    "\n",
    "I wanted to hone in on RPG data specifically, so I created a database specifically for them."
   ]
  },
  {
   "cell_type": "code",
   "execution_count": 13,
   "metadata": {
    "collapsed": false
   },
   "outputs": [],
   "source": [
    "RPG_Database = df[df['Genre'] == 'Role-Playing']"
   ]
  },
  {
   "cell_type": "code",
   "execution_count": 15,
   "metadata": {
    "collapsed": false
   },
   "outputs": [
    {
     "data": {
      "text/html": [
       "<div>\n",
       "<table border=\"1\" class=\"dataframe\">\n",
       "  <thead>\n",
       "    <tr style=\"text-align: right;\">\n",
       "      <th></th>\n",
       "      <th>Game</th>\n",
       "      <th>Platform</th>\n",
       "      <th>Year</th>\n",
       "      <th>Genre</th>\n",
       "      <th>Publisher</th>\n",
       "      <th>NA</th>\n",
       "      <th>Europe</th>\n",
       "      <th>Japan</th>\n",
       "      <th>Rest_of_World</th>\n",
       "    </tr>\n",
       "  </thead>\n",
       "  <tbody>\n",
       "    <tr>\n",
       "      <th>7</th>\n",
       "      <td>Fallout 4</td>\n",
       "      <td>PS4</td>\n",
       "      <td>2015.0</td>\n",
       "      <td>Role-Playing</td>\n",
       "      <td>Bethesda Softworks</td>\n",
       "      <td>2.64</td>\n",
       "      <td>3.49</td>\n",
       "      <td>0.25</td>\n",
       "      <td>1.20</td>\n",
       "    </tr>\n",
       "    <tr>\n",
       "      <th>15</th>\n",
       "      <td>Final Fantasy XV</td>\n",
       "      <td>PS4</td>\n",
       "      <td>2016.0</td>\n",
       "      <td>Role-Playing</td>\n",
       "      <td>Square Enix</td>\n",
       "      <td>1.39</td>\n",
       "      <td>1.61</td>\n",
       "      <td>0.96</td>\n",
       "      <td>0.59</td>\n",
       "    </tr>\n",
       "    <tr>\n",
       "      <th>16</th>\n",
       "      <td>The Witcher 3: Wild Hunt</td>\n",
       "      <td>PS4</td>\n",
       "      <td>2015.0</td>\n",
       "      <td>Role-Playing</td>\n",
       "      <td>Namco Bandai Games</td>\n",
       "      <td>1.12</td>\n",
       "      <td>2.30</td>\n",
       "      <td>0.25</td>\n",
       "      <td>0.64</td>\n",
       "    </tr>\n",
       "    <tr>\n",
       "      <th>45</th>\n",
       "      <td>The Elder Scrolls V: Skyrim</td>\n",
       "      <td>PS4</td>\n",
       "      <td>2016.0</td>\n",
       "      <td>Role-Playing</td>\n",
       "      <td>Bethesda Softworks</td>\n",
       "      <td>0.92</td>\n",
       "      <td>1.02</td>\n",
       "      <td>0.07</td>\n",
       "      <td>0.38</td>\n",
       "    </tr>\n",
       "    <tr>\n",
       "      <th>51</th>\n",
       "      <td>Diablo III</td>\n",
       "      <td>PS4</td>\n",
       "      <td>2014.0</td>\n",
       "      <td>Role-Playing</td>\n",
       "      <td>Activision</td>\n",
       "      <td>0.58</td>\n",
       "      <td>1.08</td>\n",
       "      <td>0.08</td>\n",
       "      <td>0.32</td>\n",
       "    </tr>\n",
       "  </tbody>\n",
       "</table>\n",
       "</div>"
      ],
      "text/plain": [
       "                           Game Platform    Year         Genre  \\\n",
       "7                     Fallout 4      PS4  2015.0  Role-Playing   \n",
       "15             Final Fantasy XV      PS4  2016.0  Role-Playing   \n",
       "16     The Witcher 3: Wild Hunt      PS4  2015.0  Role-Playing   \n",
       "45  The Elder Scrolls V: Skyrim      PS4  2016.0  Role-Playing   \n",
       "51                   Diablo III      PS4  2014.0  Role-Playing   \n",
       "\n",
       "             Publisher    NA  Europe  Japan  Rest_of_World  \n",
       "7   Bethesda Softworks  2.64    3.49   0.25           1.20  \n",
       "15         Square Enix  1.39    1.61   0.96           0.59  \n",
       "16  Namco Bandai Games  1.12    2.30   0.25           0.64  \n",
       "45  Bethesda Softworks  0.92    1.02   0.07           0.38  \n",
       "51          Activision  0.58    1.08   0.08           0.32  "
      ]
     },
     "execution_count": 15,
     "metadata": {},
     "output_type": "execute_result"
    }
   ],
   "source": [
    "RPG_Database.head()"
   ]
  },
  {
   "cell_type": "markdown",
   "metadata": {},
   "source": [
    "There are a lot of different publishers in this genre, how many games have they each published? "
   ]
  },
  {
   "cell_type": "code",
   "execution_count": 163,
   "metadata": {
    "collapsed": false
   },
   "outputs": [],
   "source": [
    "# Create dataframe to collect games per game data\n",
    "Number_of_Games = RPG_Database.groupby(['Publisher'], as_index=False).count()\n",
    "Games_Per_Publisher = pd.concat([Games_Grouped['Publisher'], Games_Grouped['Game']], axis=1, keys=['Publisher', 'Number_of_Games'])"
   ]
  },
  {
   "cell_type": "code",
   "execution_count": 164,
   "metadata": {
    "collapsed": false
   },
   "outputs": [
    {
     "data": {
      "text/html": [
       "<div>\n",
       "<table border=\"1\" class=\"dataframe\">\n",
       "  <thead>\n",
       "    <tr style=\"text-align: right;\">\n",
       "      <th></th>\n",
       "      <th>Publisher</th>\n",
       "      <th>Number_of_Games</th>\n",
       "    </tr>\n",
       "  </thead>\n",
       "  <tbody>\n",
       "    <tr>\n",
       "      <th>0</th>\n",
       "      <td>505 Games</td>\n",
       "      <td>2</td>\n",
       "    </tr>\n",
       "    <tr>\n",
       "      <th>1</th>\n",
       "      <td>Activision</td>\n",
       "      <td>1</td>\n",
       "    </tr>\n",
       "    <tr>\n",
       "      <th>2</th>\n",
       "      <td>Aksys Games</td>\n",
       "      <td>1</td>\n",
       "    </tr>\n",
       "    <tr>\n",
       "      <th>3</th>\n",
       "      <td>Atlus</td>\n",
       "      <td>1</td>\n",
       "    </tr>\n",
       "    <tr>\n",
       "      <th>4</th>\n",
       "      <td>Bethesda Softworks</td>\n",
       "      <td>3</td>\n",
       "    </tr>\n",
       "  </tbody>\n",
       "</table>\n",
       "</div>"
      ],
      "text/plain": [
       "            Publisher  Number_of_Games\n",
       "0           505 Games                2\n",
       "1          Activision                1\n",
       "2         Aksys Games                1\n",
       "3               Atlus                1\n",
       "4  Bethesda Softworks                3"
      ]
     },
     "execution_count": 164,
     "metadata": {},
     "output_type": "execute_result"
    }
   ],
   "source": [
    "Games_Per_Publisher.head()"
   ]
  },
  {
   "cell_type": "markdown",
   "metadata": {},
   "source": [
    "Now that we have this data, lets combine it with their number of sales and see if there's a correlation between the number of games and the amount of sales made worldwide."
   ]
  },
  {
   "cell_type": "code",
   "execution_count": 190,
   "metadata": {
    "collapsed": false
   },
   "outputs": [],
   "source": [
    "# Find the total amount by each region and then collect the global sales by summing them\n",
    "NA_RPG_Publishers = RPG_Database.groupby('Publisher')['NA'].sum().sort_values(ascending=False)\n",
    "Europe_RPG_Publishers = RPG_Database.groupby('Publisher')['Europe'].sum().sort_values(ascending=False)\n",
    "Japan_RPG_Publishers = RPG_Database.groupby('Publisher')['Japan'].sum().sort_values(ascending=False)\n",
    "ROW_RPG_Publishers = RPG_Database.groupby('Publisher')['Rest_of_World'].sum().sort_values(ascending=False)\n",
    "\n",
    "RPG_Regional_Publishers = pd.concat([NA_RPG_Publishers, Europe_RPG_Publishers, Japan_RPG_Publishers, ROW_RPG_Publishers], axis=1)\n",
    "\n",
    "# Adding the total numbers\n",
    "Global_RPG_Publishers = RPG_Regional_Publishers.sum(axis=1)\n",
    "Global_RPG_Publishers.name = 'Global_Total'\n",
    "\n",
    "# Final data frame\n",
    "#Total_RPG_Publishers = pd.concat([RPG_Regional_Publishers, Global_RPG_Publishers], axis=1)"
   ]
  },
  {
   "cell_type": "code",
   "execution_count": 191,
   "metadata": {
    "collapsed": false
   },
   "outputs": [],
   "source": [
    "# Finessing this as a dataframe further\n",
    "Global_RPG_Publishers = pd.DataFrame(Global_RPG_Publishers)\n",
    "Global_RPG_Publishers = Global_RPG_Publishers.reset_index()\n",
    "Global_RPG_Publishers = Global_RPG_Publishers.rename(columns={'index': 'Publisher'})"
   ]
  },
  {
   "cell_type": "code",
   "execution_count": 192,
   "metadata": {
    "collapsed": false
   },
   "outputs": [
    {
     "data": {
      "text/html": [
       "<div>\n",
       "<table border=\"1\" class=\"dataframe\">\n",
       "  <thead>\n",
       "    <tr style=\"text-align: right;\">\n",
       "      <th></th>\n",
       "      <th>Publisher</th>\n",
       "      <th>Global_Total</th>\n",
       "    </tr>\n",
       "  </thead>\n",
       "  <tbody>\n",
       "    <tr>\n",
       "      <th>0</th>\n",
       "      <td>505 Games</td>\n",
       "      <td>0.00</td>\n",
       "    </tr>\n",
       "    <tr>\n",
       "      <th>1</th>\n",
       "      <td>Activision</td>\n",
       "      <td>2.06</td>\n",
       "    </tr>\n",
       "    <tr>\n",
       "      <th>2</th>\n",
       "      <td>Aksys Games</td>\n",
       "      <td>0.04</td>\n",
       "    </tr>\n",
       "    <tr>\n",
       "      <th>3</th>\n",
       "      <td>Atlus</td>\n",
       "      <td>0.40</td>\n",
       "    </tr>\n",
       "    <tr>\n",
       "      <th>4</th>\n",
       "      <td>Bethesda Softworks</td>\n",
       "      <td>11.79</td>\n",
       "    </tr>\n",
       "  </tbody>\n",
       "</table>\n",
       "</div>"
      ],
      "text/plain": [
       "            Publisher  Global_Total\n",
       "0           505 Games          0.00\n",
       "1          Activision          2.06\n",
       "2         Aksys Games          0.04\n",
       "3               Atlus          0.40\n",
       "4  Bethesda Softworks         11.79"
      ]
     },
     "execution_count": 192,
     "metadata": {},
     "output_type": "execute_result"
    }
   ],
   "source": [
    "Global_RPG_Publishers.head()"
   ]
  },
  {
   "cell_type": "code",
   "execution_count": 194,
   "metadata": {
    "collapsed": false
   },
   "outputs": [],
   "source": [
    "# Merging the dataframes based on the publisher\n",
    "Publishers_Games = pd.merge(Global_RPG_Publishers, Games_Per_Publisher, how='inner', on=['Publisher'])"
   ]
  },
  {
   "cell_type": "markdown",
   "metadata": {},
   "source": [
    "Here is the final table of our data set of publishers, the number of games they have published, and the global sales they have made on those games."
   ]
  },
  {
   "cell_type": "code",
   "execution_count": 214,
   "metadata": {
    "collapsed": false
   },
   "outputs": [
    {
     "data": {
      "text/html": [
       "<div>\n",
       "<table border=\"1\" class=\"dataframe\">\n",
       "  <thead>\n",
       "    <tr style=\"text-align: right;\">\n",
       "      <th></th>\n",
       "      <th>Publisher</th>\n",
       "      <th>Global_Total</th>\n",
       "      <th>Number_of_Games</th>\n",
       "    </tr>\n",
       "  </thead>\n",
       "  <tbody>\n",
       "    <tr>\n",
       "      <th>0</th>\n",
       "      <td>505 Games</td>\n",
       "      <td>0.00</td>\n",
       "      <td>2</td>\n",
       "    </tr>\n",
       "    <tr>\n",
       "      <th>1</th>\n",
       "      <td>Activision</td>\n",
       "      <td>2.06</td>\n",
       "      <td>1</td>\n",
       "    </tr>\n",
       "    <tr>\n",
       "      <th>2</th>\n",
       "      <td>Aksys Games</td>\n",
       "      <td>0.04</td>\n",
       "      <td>1</td>\n",
       "    </tr>\n",
       "    <tr>\n",
       "      <th>3</th>\n",
       "      <td>Atlus</td>\n",
       "      <td>0.40</td>\n",
       "      <td>1</td>\n",
       "    </tr>\n",
       "    <tr>\n",
       "      <th>4</th>\n",
       "      <td>Bethesda Softworks</td>\n",
       "      <td>11.79</td>\n",
       "      <td>3</td>\n",
       "    </tr>\n",
       "    <tr>\n",
       "      <th>5</th>\n",
       "      <td>CD Projekt Red Studio</td>\n",
       "      <td>0.00</td>\n",
       "      <td>1</td>\n",
       "    </tr>\n",
       "    <tr>\n",
       "      <th>6</th>\n",
       "      <td>Capcom</td>\n",
       "      <td>0.09</td>\n",
       "      <td>3</td>\n",
       "    </tr>\n",
       "    <tr>\n",
       "      <th>7</th>\n",
       "      <td>Compile Heart</td>\n",
       "      <td>0.02</td>\n",
       "      <td>1</td>\n",
       "    </tr>\n",
       "    <tr>\n",
       "      <th>8</th>\n",
       "      <td>Deep Silver</td>\n",
       "      <td>0.19</td>\n",
       "      <td>3</td>\n",
       "    </tr>\n",
       "    <tr>\n",
       "      <th>9</th>\n",
       "      <td>Disney Interactive Studios</td>\n",
       "      <td>0.00</td>\n",
       "      <td>1</td>\n",
       "    </tr>\n",
       "    <tr>\n",
       "      <th>10</th>\n",
       "      <td>Double Damage Games</td>\n",
       "      <td>0.00</td>\n",
       "      <td>1</td>\n",
       "    </tr>\n",
       "    <tr>\n",
       "      <th>11</th>\n",
       "      <td>Electronic Arts</td>\n",
       "      <td>2.79</td>\n",
       "      <td>2</td>\n",
       "    </tr>\n",
       "    <tr>\n",
       "      <th>12</th>\n",
       "      <td>Focus Home Interactive</td>\n",
       "      <td>0.59</td>\n",
       "      <td>3</td>\n",
       "    </tr>\n",
       "    <tr>\n",
       "      <th>13</th>\n",
       "      <td>Idea Factory International</td>\n",
       "      <td>0.25</td>\n",
       "      <td>4</td>\n",
       "    </tr>\n",
       "    <tr>\n",
       "      <th>14</th>\n",
       "      <td>Kadokawa Games</td>\n",
       "      <td>0.00</td>\n",
       "      <td>2</td>\n",
       "    </tr>\n",
       "    <tr>\n",
       "      <th>15</th>\n",
       "      <td>Kalypso Media</td>\n",
       "      <td>0.02</td>\n",
       "      <td>1</td>\n",
       "    </tr>\n",
       "    <tr>\n",
       "      <th>16</th>\n",
       "      <td>Level 5</td>\n",
       "      <td>0.00</td>\n",
       "      <td>1</td>\n",
       "    </tr>\n",
       "    <tr>\n",
       "      <th>17</th>\n",
       "      <td>Little Orbit</td>\n",
       "      <td>0.00</td>\n",
       "      <td>1</td>\n",
       "    </tr>\n",
       "    <tr>\n",
       "      <th>18</th>\n",
       "      <td>Namco Bandai Games</td>\n",
       "      <td>8.70</td>\n",
       "      <td>12</td>\n",
       "    </tr>\n",
       "    <tr>\n",
       "      <th>19</th>\n",
       "      <td>Nihon Falcom Corporation</td>\n",
       "      <td>0.05</td>\n",
       "      <td>1</td>\n",
       "    </tr>\n",
       "    <tr>\n",
       "      <th>20</th>\n",
       "      <td>Nippon Ichi Software</td>\n",
       "      <td>0.94</td>\n",
       "      <td>8</td>\n",
       "    </tr>\n",
       "    <tr>\n",
       "      <th>21</th>\n",
       "      <td>Nordic Games</td>\n",
       "      <td>0.05</td>\n",
       "      <td>1</td>\n",
       "    </tr>\n",
       "    <tr>\n",
       "      <th>22</th>\n",
       "      <td>Sega</td>\n",
       "      <td>0.36</td>\n",
       "      <td>3</td>\n",
       "    </tr>\n",
       "    <tr>\n",
       "      <th>23</th>\n",
       "      <td>Sony Computer Entertainment</td>\n",
       "      <td>0.00</td>\n",
       "      <td>1</td>\n",
       "    </tr>\n",
       "    <tr>\n",
       "      <th>24</th>\n",
       "      <td>Sony Online Entertainment</td>\n",
       "      <td>0.00</td>\n",
       "      <td>2</td>\n",
       "    </tr>\n",
       "    <tr>\n",
       "      <th>25</th>\n",
       "      <td>Square Enix</td>\n",
       "      <td>11.22</td>\n",
       "      <td>18</td>\n",
       "    </tr>\n",
       "    <tr>\n",
       "      <th>26</th>\n",
       "      <td>THQ Nordic</td>\n",
       "      <td>0.01</td>\n",
       "      <td>1</td>\n",
       "    </tr>\n",
       "    <tr>\n",
       "      <th>27</th>\n",
       "      <td>Taleworlds</td>\n",
       "      <td>0.00</td>\n",
       "      <td>2</td>\n",
       "    </tr>\n",
       "    <tr>\n",
       "      <th>28</th>\n",
       "      <td>Techland</td>\n",
       "      <td>0.01</td>\n",
       "      <td>1</td>\n",
       "    </tr>\n",
       "    <tr>\n",
       "      <th>29</th>\n",
       "      <td>Tecmo Koei</td>\n",
       "      <td>0.29</td>\n",
       "      <td>3</td>\n",
       "    </tr>\n",
       "    <tr>\n",
       "      <th>30</th>\n",
       "      <td>TopWare Interactive</td>\n",
       "      <td>0.01</td>\n",
       "      <td>1</td>\n",
       "    </tr>\n",
       "    <tr>\n",
       "      <th>31</th>\n",
       "      <td>Ubisoft</td>\n",
       "      <td>0.05</td>\n",
       "      <td>3</td>\n",
       "    </tr>\n",
       "    <tr>\n",
       "      <th>32</th>\n",
       "      <td>Unknown</td>\n",
       "      <td>0.00</td>\n",
       "      <td>1</td>\n",
       "    </tr>\n",
       "    <tr>\n",
       "      <th>33</th>\n",
       "      <td>Wander MMO</td>\n",
       "      <td>0.00</td>\n",
       "      <td>1</td>\n",
       "    </tr>\n",
       "    <tr>\n",
       "      <th>34</th>\n",
       "      <td>Warhorse Studios</td>\n",
       "      <td>0.00</td>\n",
       "      <td>1</td>\n",
       "    </tr>\n",
       "    <tr>\n",
       "      <th>35</th>\n",
       "      <td>WaterMelon</td>\n",
       "      <td>0.00</td>\n",
       "      <td>1</td>\n",
       "    </tr>\n",
       "  </tbody>\n",
       "</table>\n",
       "</div>"
      ],
      "text/plain": [
       "                      Publisher  Global_Total  Number_of_Games\n",
       "0                     505 Games          0.00                2\n",
       "1                    Activision          2.06                1\n",
       "2                   Aksys Games          0.04                1\n",
       "3                         Atlus          0.40                1\n",
       "4            Bethesda Softworks         11.79                3\n",
       "5         CD Projekt Red Studio          0.00                1\n",
       "6                        Capcom          0.09                3\n",
       "7                 Compile Heart          0.02                1\n",
       "8                   Deep Silver          0.19                3\n",
       "9    Disney Interactive Studios          0.00                1\n",
       "10          Double Damage Games          0.00                1\n",
       "11              Electronic Arts          2.79                2\n",
       "12       Focus Home Interactive          0.59                3\n",
       "13   Idea Factory International          0.25                4\n",
       "14               Kadokawa Games          0.00                2\n",
       "15                Kalypso Media          0.02                1\n",
       "16                      Level 5          0.00                1\n",
       "17                 Little Orbit          0.00                1\n",
       "18           Namco Bandai Games          8.70               12\n",
       "19     Nihon Falcom Corporation          0.05                1\n",
       "20         Nippon Ichi Software          0.94                8\n",
       "21                 Nordic Games          0.05                1\n",
       "22                         Sega          0.36                3\n",
       "23  Sony Computer Entertainment          0.00                1\n",
       "24    Sony Online Entertainment          0.00                2\n",
       "25                  Square Enix         11.22               18\n",
       "26                   THQ Nordic          0.01                1\n",
       "27                   Taleworlds          0.00                2\n",
       "28                     Techland          0.01                1\n",
       "29                   Tecmo Koei          0.29                3\n",
       "30          TopWare Interactive          0.01                1\n",
       "31                      Ubisoft          0.05                3\n",
       "32                      Unknown          0.00                1\n",
       "33                   Wander MMO          0.00                1\n",
       "34             Warhorse Studios          0.00                1\n",
       "35                   WaterMelon          0.00                1"
      ]
     },
     "execution_count": 214,
     "metadata": {},
     "output_type": "execute_result"
    }
   ],
   "source": [
    "Publishers_Games"
   ]
  },
  {
   "cell_type": "markdown",
   "metadata": {},
   "source": [
    "Below we have a heatmap representation of the table above. The Y axis gives us the publishers while the X axis gives us the number of games they have published. The intensity (hue) of the heatmap is the number of sales made; A lighter color represents a low amount of sales while a darker color represents a high amount of sales."
   ]
  },
  {
   "cell_type": "code",
   "execution_count": 219,
   "metadata": {
    "collapsed": false
   },
   "outputs": [
    {
     "data": {
      "image/png": "[encoded data removed]",
      "text/plain": [
       "<matplotlib.figure.Figure at 0x12c35c208>"
      ]
     },
     "metadata": {},
     "output_type": "display_data"
    }
   ],
   "source": [
    "result = Publishers_Games.pivot(index='Publisher', columns='Number_of_Games', values='Global_Total')\n",
    "plt.figure(figsize = (50,30))\n",
    "sns.set(style=\"whitegrid\")\n",
    "sns.heatmap(result)\n",
    "plt.show()"
   ]
  },
  {
   "cell_type": "code",
   "execution_count": null,
   "metadata": {
    "collapsed": true
   },
   "outputs": [],
   "source": []
  }
 ],
 "metadata": {
  "kernelspec": {
   "display_name": "Python 3",
   "language": "python",
   "name": "python3"
  },
  "language_info": {
   "codemirror_mode": {
    "name": "ipython",
    "version": 3
   },
   "file_extension": ".py",
   "mimetype": "text/x-python",
   "name": "python",
   "nbconvert_exporter": "python",
   "pygments_lexer": "ipython3",
   "version": "3.5.1"
  }
 },
 "nbformat": 4,
 "nbformat_minor": 0
}
